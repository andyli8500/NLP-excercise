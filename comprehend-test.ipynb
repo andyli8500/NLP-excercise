{
 "cells": [
  {
   "cell_type": "markdown",
   "metadata": {},
   "source": [
    "### First of all, setup the AWS credential in ~/.aws/credential\n",
    "\n",
    "To do that, run ```$ aws configure```"
   ]
  },
  {
   "cell_type": "code",
   "execution_count": null,
   "metadata": {},
   "outputs": [],
   "source": [
    "import json\n",
    "import boto3\n",
    "\n",
    "cph = boto3.client('comprehend', region_name='us-east-1')"
   ]
  },
  {
   "cell_type": "code",
   "execution_count": 2,
   "metadata": {
    "scrolled": true
   },
   "outputs": [
    {
     "data": {
      "text/plain": [
       "['_PY_TO_OP_NAME',\n",
       " '__class__',\n",
       " '__delattr__',\n",
       " '__dict__',\n",
       " '__doc__',\n",
       " '__format__',\n",
       " '__getattr__',\n",
       " '__getattribute__',\n",
       " '__hash__',\n",
       " '__init__',\n",
       " '__module__',\n",
       " '__new__',\n",
       " '__reduce__',\n",
       " '__reduce_ex__',\n",
       " '__repr__',\n",
       " '__setattr__',\n",
       " '__sizeof__',\n",
       " '__str__',\n",
       " '__subclasshook__',\n",
       " '__weakref__',\n",
       " '_cache',\n",
       " '_client_config',\n",
       " '_convert_to_request_dict',\n",
       " '_endpoint',\n",
       " '_exceptions',\n",
       " '_exceptions_factory',\n",
       " '_get_waiter_config',\n",
       " '_load_exceptions',\n",
       " '_loader',\n",
       " '_make_api_call',\n",
       " '_register_handlers',\n",
       " '_request_signer',\n",
       " '_response_parser',\n",
       " '_serializer',\n",
       " '_service_model',\n",
       " u'batch_detect_dominant_language',\n",
       " u'batch_detect_entities',\n",
       " u'batch_detect_key_phrases',\n",
       " u'batch_detect_sentiment',\n",
       " 'can_paginate',\n",
       " u'describe_topics_detection_job',\n",
       " u'detect_dominant_language',\n",
       " u'detect_entities',\n",
       " u'detect_key_phrases',\n",
       " u'detect_sentiment',\n",
       " 'exceptions',\n",
       " 'generate_presigned_url',\n",
       " 'get_paginator',\n",
       " 'get_waiter',\n",
       " u'list_topics_detection_jobs',\n",
       " 'meta',\n",
       " u'start_topics_detection_job',\n",
       " 'waiter_names']"
      ]
     },
     "execution_count": 2,
     "metadata": {},
     "output_type": "execute_result"
    }
   ],
   "source": [
    "# just some methods I can see\n",
    "dir(cph)"
   ]
  },
  {
   "cell_type": "code",
   "execution_count": 3,
   "metadata": {},
   "outputs": [],
   "source": [
    "def print_json(js):\n",
    "    print  json.dumps(js, indent=2, sort_keys=True)"
   ]
  },
  {
   "cell_type": "code",
   "execution_count": 4,
   "metadata": {},
   "outputs": [],
   "source": [
    "text = \"Use case description: We have a situation where we are auto-scaling streams based on various metrics. Having a limit of 2 calls for stream's updateShardCount, for 24 hours per region will potentially prevent us from scaling out to meet demand and scaling in to reduce cost when the capacity is not needed.A more reasonable limit need to take into account how many streams are in a region. So I would like to request the limit to be raised to 4 calls to updateShardCount per 24 hours for each stream in a region.\""
   ]
  },
  {
   "cell_type": "code",
   "execution_count": 5,
   "metadata": {},
   "outputs": [
    {
     "data": {
      "text/plain": [
       "\"Use case description: We have a situation where we are auto-scaling streams based on various metrics. Having a limit of 2 calls for stream's updateShardCount, for 24 hours per region will potentially prevent us from scaling out to meet demand and scaling in to reduce cost when the capacity is not needed.A more reasonable limit need to take into account how many streams are in a region. So I would like to request the limit to be raised to 4 calls to updateShardCount per 24 hours for each stream in a region.\""
      ]
     },
     "execution_count": 5,
     "metadata": {},
     "output_type": "execute_result"
    }
   ],
   "source": [
    "text"
   ]
  },
  {
   "cell_type": "code",
   "execution_count": 6,
   "metadata": {},
   "outputs": [
    {
     "data": {
      "text/plain": [
       "u'en'"
      ]
     },
     "execution_count": 6,
     "metadata": {},
     "output_type": "execute_result"
    }
   ],
   "source": [
    "#1 Detect waht Language is it\n",
    "lan_res = cph.detect_dominant_language(Text=text)\n",
    "language = lan_res['Languages'][0]['LanguageCode']\n",
    "\n",
    "language"
   ]
  },
  {
   "cell_type": "code",
   "execution_count": 7,
   "metadata": {},
   "outputs": [
    {
     "name": "stdout",
     "output_type": "stream",
     "text": [
      "[\n",
      "  {\n",
      "    \"BeginOffset\": 120, \n",
      "    \"EndOffset\": 127, \n",
      "    \"Score\": 0.9907538294792175, \n",
      "    \"Text\": \"2 calls\", \n",
      "    \"Type\": \"QUANTITY\"\n",
      "  }, \n",
      "  {\n",
      "    \"BeginOffset\": 163, \n",
      "    \"EndOffset\": 171, \n",
      "    \"Score\": 0.8708639144897461, \n",
      "    \"Text\": \"24 hours\", \n",
      "    \"Type\": \"QUANTITY\"\n",
      "  }, \n",
      "  {\n",
      "    \"BeginOffset\": 442, \n",
      "    \"EndOffset\": 449, \n",
      "    \"Score\": 0.9895495772361755, \n",
      "    \"Text\": \"4 calls\", \n",
      "    \"Type\": \"QUANTITY\"\n",
      "  }, \n",
      "  {\n",
      "    \"BeginOffset\": 474, \n",
      "    \"EndOffset\": 482, \n",
      "    \"Score\": 0.9925260543823242, \n",
      "    \"Text\": \"24 hours\", \n",
      "    \"Type\": \"QUANTITY\"\n",
      "  }, \n",
      "  {\n",
      "    \"BeginOffset\": 487, \n",
      "    \"EndOffset\": 498, \n",
      "    \"Score\": 0.768937885761261, \n",
      "    \"Text\": \"each stream\", \n",
      "    \"Type\": \"QUANTITY\"\n",
      "  }\n",
      "]\n"
     ]
    }
   ],
   "source": [
    "#2 Find the entities in side the text\n",
    "entity_res = cph.detect_entities(Text=text, LanguageCode=language)\n",
    "\n",
    "print_json(entity_res[\"Entities\"])"
   ]
  },
  {
   "cell_type": "code",
   "execution_count": 32,
   "metadata": {
    "scrolled": true
   },
   "outputs": [
    {
     "name": "stdout",
     "output_type": "stream",
     "text": [
      "[\n",
      "  {\n",
      "    \"BeginOffset\": 4, \n",
      "    \"EndOffset\": 20, \n",
      "    \"Score\": 0.8377100229263306, \n",
      "    \"Text\": \"case description\"\n",
      "  }, \n",
      "  {\n",
      "    \"BeginOffset\": 30, \n",
      "    \"EndOffset\": 41, \n",
      "    \"Score\": 0.9994999170303345, \n",
      "    \"Text\": \"a situation\"\n",
      "  }, \n",
      "  {\n",
      "    \"BeginOffset\": 55, \n",
      "    \"EndOffset\": 75, \n",
      "    \"Score\": 0.8777210712432861, \n",
      "    \"Text\": \"auto-scaling streams\"\n",
      "  }, \n",
      "  {\n",
      "    \"BeginOffset\": 85, \n",
      "    \"EndOffset\": 100, \n",
      "    \"Score\": 0.9545795321464539, \n",
      "    \"Text\": \"various metrics\"\n",
      "  }, \n",
      "  {\n",
      "    \"BeginOffset\": 109, \n",
      "    \"EndOffset\": 116, \n",
      "    \"Score\": 0.996186375617981, \n",
      "    \"Text\": \"a limit\"\n",
      "  }, \n",
      "  {\n",
      "    \"BeginOffset\": 120, \n",
      "    \"EndOffset\": 127, \n",
      "    \"Score\": 0.9876562356948853, \n",
      "    \"Text\": \"2 calls\"\n",
      "  }, \n",
      "  {\n",
      "    \"BeginOffset\": 132, \n",
      "    \"EndOffset\": 138, \n",
      "    \"Score\": 0.9954098463058472, \n",
      "    \"Text\": \"stream\"\n",
      "  }, \n",
      "  {\n",
      "    \"BeginOffset\": 141, \n",
      "    \"EndOffset\": 157, \n",
      "    \"Score\": 0.9893521070480347, \n",
      "    \"Text\": \"updateShardCount\"\n",
      "  }, \n",
      "  {\n",
      "    \"BeginOffset\": 163, \n",
      "    \"EndOffset\": 171, \n",
      "    \"Score\": 0.9886663556098938, \n",
      "    \"Text\": \"24 hours\"\n",
      "  }, \n",
      "  {\n",
      "    \"BeginOffset\": 176, \n",
      "    \"EndOffset\": 182, \n",
      "    \"Score\": 0.9940356612205505, \n",
      "    \"Text\": \"region\"\n",
      "  }, \n",
      "  {\n",
      "    \"BeginOffset\": 236, \n",
      "    \"EndOffset\": 242, \n",
      "    \"Score\": 0.9218659996986389, \n",
      "    \"Text\": \"demand\"\n",
      "  }, \n",
      "  {\n",
      "    \"BeginOffset\": 268, \n",
      "    \"EndOffset\": 272, \n",
      "    \"Score\": 0.940757691860199, \n",
      "    \"Text\": \"cost\"\n",
      "  }, \n",
      "  {\n",
      "    \"BeginOffset\": 278, \n",
      "    \"EndOffset\": 290, \n",
      "    \"Score\": 0.9996379613876343, \n",
      "    \"Text\": \"the capacity\"\n",
      "  }, \n",
      "  {\n",
      "    \"BeginOffset\": 305, \n",
      "    \"EndOffset\": 328, \n",
      "    \"Score\": 0.9387133717536926, \n",
      "    \"Text\": \"A more reasonable limit\"\n",
      "  }, \n",
      "  {\n",
      "    \"BeginOffset\": 347, \n",
      "    \"EndOffset\": 354, \n",
      "    \"Score\": 0.9967977404594421, \n",
      "    \"Text\": \"account\"\n",
      "  }, \n",
      "  {\n",
      "    \"BeginOffset\": 355, \n",
      "    \"EndOffset\": 371, \n",
      "    \"Score\": 0.7258608341217041, \n",
      "    \"Text\": \"how many streams\"\n",
      "  }, \n",
      "  {\n",
      "    \"BeginOffset\": 379, \n",
      "    \"EndOffset\": 387, \n",
      "    \"Score\": 0.9953719973564148, \n",
      "    \"Text\": \"a region\"\n",
      "  }, \n",
      "  {\n",
      "    \"BeginOffset\": 416, \n",
      "    \"EndOffset\": 425, \n",
      "    \"Score\": 0.9973310828208923, \n",
      "    \"Text\": \"the limit\"\n",
      "  }, \n",
      "  {\n",
      "    \"BeginOffset\": 442, \n",
      "    \"EndOffset\": 449, \n",
      "    \"Score\": 0.9933065176010132, \n",
      "    \"Text\": \"4 calls\"\n",
      "  }, \n",
      "  {\n",
      "    \"BeginOffset\": 453, \n",
      "    \"EndOffset\": 469, \n",
      "    \"Score\": 0.9534003138542175, \n",
      "    \"Text\": \"updateShardCount\"\n",
      "  }, \n",
      "  {\n",
      "    \"BeginOffset\": 474, \n",
      "    \"EndOffset\": 482, \n",
      "    \"Score\": 0.9965861439704895, \n",
      "    \"Text\": \"24 hours\"\n",
      "  }, \n",
      "  {\n",
      "    \"BeginOffset\": 487, \n",
      "    \"EndOffset\": 498, \n",
      "    \"Score\": 0.9934857487678528, \n",
      "    \"Text\": \"each stream\"\n",
      "  }, \n",
      "  {\n",
      "    \"BeginOffset\": 502, \n",
      "    \"EndOffset\": 510, \n",
      "    \"Score\": 0.9997392296791077, \n",
      "    \"Text\": \"a region\"\n",
      "  }\n",
      "]\n"
     ]
    }
   ],
   "source": [
    "#3 find the key phrase within the text\n",
    "key_res = cph.detect_key_phrases(Text=text, LanguageCode=language)\n",
    "print_json(key_res['KeyPhrases'])"
   ]
  },
  {
   "cell_type": "code",
   "execution_count": 34,
   "metadata": {},
   "outputs": [
    {
     "name": "stdout",
     "output_type": "stream",
     "text": [
      "{\n",
      "  \"Mixed\": 0.006178559269756079, \n",
      "  \"Negative\": 0.02331106923520565, \n",
      "  \"Neutral\": 0.9522492289543152, \n",
      "  \"Positive\": 0.01826108619570732\n",
      "}\n"
     ]
    }
   ],
   "source": [
    "#4 Sentiment score estimations\n",
    "sentiment_res = cph.detect_sentiment(Text=text, LanguageCode=language)\n",
    "\n",
    "print_json(sentiment_res['SentimentScore'])"
   ]
  },
  {
   "cell_type": "code",
   "execution_count": null,
   "metadata": {
    "collapsed": true
   },
   "outputs": [],
   "source": []
  },
  {
   "cell_type": "code",
   "execution_count": null,
   "metadata": {
    "collapsed": true
   },
   "outputs": [],
   "source": []
  },
  {
   "cell_type": "code",
   "execution_count": null,
   "metadata": {
    "collapsed": true
   },
   "outputs": [],
   "source": []
  },
  {
   "cell_type": "code",
   "execution_count": null,
   "metadata": {
    "collapsed": true
   },
   "outputs": [],
   "source": []
  }
 ],
 "metadata": {
  "kernelspec": {
   "display_name": "Python 2",
   "language": "python",
   "name": "python2"
  },
  "language_info": {
   "codemirror_mode": {
    "name": "ipython",
    "version": 2
   },
   "file_extension": ".py",
   "mimetype": "text/x-python",
   "name": "python",
   "nbconvert_exporter": "python",
   "pygments_lexer": "ipython2",
   "version": "2.7.14"
  }
 },
 "nbformat": 4,
 "nbformat_minor": 2
}
